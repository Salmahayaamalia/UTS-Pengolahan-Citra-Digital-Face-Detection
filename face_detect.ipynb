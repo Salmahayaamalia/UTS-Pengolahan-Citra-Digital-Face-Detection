{
 "cells": [
  {
   "cell_type": "code",
   "execution_count": 1,
   "metadata": {},
   "outputs": [
    {
     "ename": "AttributeError",
     "evalue": "'cv2.VideoCapture' object has no attribute 'realese'",
     "output_type": "error",
     "traceback": [
      "\u001b[1;31m---------------------------------------------------------------------------\u001b[0m",
      "\u001b[1;31mAttributeError\u001b[0m                            Traceback (most recent call last)",
      "Cell \u001b[1;32mIn[1], line 22\u001b[0m\n\u001b[0;32m     18\u001b[0m     \u001b[39mif\u001b[39;00m close \u001b[39m==\u001b[39m \u001b[39m27\u001b[39m \u001b[39mor\u001b[39;00m close \u001b[39m==\u001b[39m \u001b[39mord\u001b[39m (\u001b[39m'\u001b[39m\u001b[39mx\u001b[39m\u001b[39m'\u001b[39m) :\n\u001b[0;32m     19\u001b[0m         \u001b[39mbreak\u001b[39;00m\n\u001b[1;32m---> 22\u001b[0m cam\u001b[39m.\u001b[39;49mrealese()\n\u001b[0;32m     23\u001b[0m cv2\u001b[39m.\u001b[39mdestroyAllWindows()\n",
      "\u001b[1;31mAttributeError\u001b[0m: 'cv2.VideoCapture' object has no attribute 'realese'"
     ]
    },
    {
     "ename": "",
     "evalue": "",
     "output_type": "error",
     "traceback": [
      "\u001b[1;31mThe Kernel crashed while executing code in the the current cell or a previous cell. Please review the code in the cell(s) to identify a possible cause of the failure. Click <a href='https://aka.ms/vscodeJupyterKernelCrash'>here</a> for more info. View Jupyter <a href='command:jupyter.viewOutput'>log</a> for further details."
     ]
    }
   ],
   "source": [
    "import cv2\n",
    "\n",
    "cam = cv2.VideoCapture(0)\n",
    "cam.set(3, 660)\n",
    "cam.set(4, 500)\n",
    "faceDetector = cv2.CascadeClassifier('haarcascade_frontalface_default.xml')\n",
    "\n",
    "while True :\n",
    "    retv, frame = cam.read()\n",
    "    warna = cv2.cvtColor(frame, cv2.COLOR_BGR2GRAY)\n",
    "    faces = faceDetector.detectMultiScale(warna, 1.3, 5)\n",
    "\n",
    "    for (x, y, w, h) in faces :\n",
    "        frame = cv2.rectangle(frame, (x,y), (x+w, y+h), (0,225,63), 2)\n",
    "        rec_muka = warna[y : y + h, x : x + w]\n",
    "    cv2.imshow('WEBCAM', frame)\n",
    "    close = cv2.waitKey(1) & 0xFF\n",
    "    if close == 27 or close == ord ('x') :\n",
    "        break\n",
    "\n",
    "\n",
    "cam.realese()\n",
    "cv2.destroyAllWindows()\n",
    "\n",
    "        "
   ]
  }
 ],
 "metadata": {
  "kernelspec": {
   "display_name": "Python 3",
   "language": "python",
   "name": "python3"
  },
  "language_info": {
   "codemirror_mode": {
    "name": "ipython",
    "version": 3
   },
   "file_extension": ".py",
   "mimetype": "text/x-python",
   "name": "python",
   "nbconvert_exporter": "python",
   "pygments_lexer": "ipython3",
   "version": "3.9.6"
  },
  "orig_nbformat": 4
 },
 "nbformat": 4,
 "nbformat_minor": 2
}
